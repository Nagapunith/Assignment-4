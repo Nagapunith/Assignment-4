{
  "nbformat": 4,
  "nbformat_minor": 0,
  "metadata": {
    "colab": {
      "name": "Assignment4",
      "provenance": []
    },
    "kernelspec": {
      "name": "python3",
      "display_name": "Python 3"
    }
  },
  "cells": [
    {
      "cell_type": "code",
      "metadata": {
        "id": "fd_kaiWijNuE",
        "colab_type": "code",
        "colab": {
          "base_uri": "https://localhost:8080/",
          "height": 34
        },
        "outputId": "99fe5ca3-903f-4797-acc4-8c656dc27833"
      },
      "source": [
        "def maximum(a, b, c): \n",
        "  \n",
        "    if (a >= b) and (a >= c): \n",
        "        largest = a \n",
        "  \n",
        "    elif (b >= a) and (b >= c): \n",
        "        largest = b \n",
        "    else: \n",
        "        largest = c \n",
        "          \n",
        "    return largest \n",
        "a = 10\n",
        "b = 14\n",
        "c = 12\n",
        "print(maximum(a, b, c)) \n",
        "  "
      ],
      "execution_count": 4,
      "outputs": [
        {
          "output_type": "stream",
          "text": [
            "14\n"
          ],
          "name": "stdout"
        }
      ]
    },
    {
      "cell_type": "code",
      "metadata": {
        "id": "uWligoaAd5nL",
        "colab_type": "code",
        "colab": {
          "base_uri": "https://localhost:8080/",
          "height": 50
        },
        "outputId": "668b757b-6565-4a56-b84c-e7e689e7e99b"
      },
      "source": [
        "a=int(input())\n",
        "for i in range(10):\n",
        "    if(a<=10):\n",
        "      print(a,\"is in a given range\")\n",
        "      break\n",
        "    else:\n",
        "      print(a,\"is not in a range\")\n",
        "      break\n",
        "      \n"
      ],
      "execution_count": 7,
      "outputs": [
        {
          "output_type": "stream",
          "text": [
            "15\n",
            "15 is not in a range\n"
          ],
          "name": "stdout"
        }
      ]
    },
    {
      "cell_type": "code",
      "metadata": {
        "id": "v8_AnI2kgagm",
        "colab_type": "code",
        "colab": {
          "base_uri": "https://localhost:8080/",
          "height": 34
        },
        "outputId": "eb416d32-e2c2-468e-d2c8-31c9b1f689ac"
      },
      "source": [
        "def fact(num):\n",
        "  if(num==1):\n",
        "    return 1\n",
        "  else:\n",
        "    return num*fact(num-1)\n",
        "num=4\n",
        "print(\"Factorial of\",num,\"is\",fact(num))\n"
      ],
      "execution_count": 10,
      "outputs": [
        {
          "output_type": "stream",
          "text": [
            "Factorial of 4 is 24\n"
          ],
          "name": "stdout"
        }
      ]
    },
    {
      "cell_type": "code",
      "metadata": {
        "id": "kV1aOzjYhnUO",
        "colab_type": "code",
        "colab": {}
      },
      "source": [
        ""
      ],
      "execution_count": null,
      "outputs": []
    }
  ]
}